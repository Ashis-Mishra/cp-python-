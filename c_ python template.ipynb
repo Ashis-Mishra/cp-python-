{
 "cells": [
  {
   "cell_type": "code",
   "execution_count": 4,
   "id": "1489dfb2",
   "metadata": {},
   "outputs": [
    {
     "name": "stdout",
     "output_type": "stream",
     "text": [
      "1\n",
      "DAAABDCA\n",
      "11088\n"
     ]
    }
   ],
   "source": [
    "'''AUTHOR - ASHIS MISHRA'''\n",
    "\n",
    "import sys\n",
    "import copy\n",
    "import math\n",
    "import heapq\n",
    "import bisect \n",
    "import statistics\n",
    "from sys import stdin,stdout\n",
    "from math import inf,gcd,log,log2,floor,ceil,sqrt\n",
    "from collections import defaultdict as dd \n",
    "from heapq import heapify , heappush , heappop\n",
    "from itertools import permutations,combinations,accumulate,groupby\n",
    "from collections import Counter, OrderedDict , deque \n",
    "from bisect import bisect_left as bl,bisect_right as br , insort \n",
    "from functools import lru_cache , reduce \n",
    "\n",
    "sys.setrecursionlimit(100000000)\n",
    "\n",
    "inp    =lambda: int(input())\n",
    "strr  =lambda: input().strip()\n",
    "jl     =lambda x,l: x.join(map(str,l))\n",
    "strl   =lambda: list(input().strip())\n",
    "muli    =lambda: map(int,input().strip().split())\n",
    "mulf   =lambda: map(float,input().strip().split())\n",
    "lstx    =lambda: list(map(int,input().strip().split()))\n",
    "\n",
    "ceil   =lambda x: int(x) if(x==int(x)) else int(x)+1\n",
    "ceildiv=lambda x,d: x//d if(x%d==0) else x//d+1\n",
    "\n",
    "flush  =lambda: stdout.flush()\n",
    "stdstr =lambda: stdin.readline()\n",
    "stdint =lambda: int(stdin.readline())\n",
    "stdpr  =lambda x: stdout.write(str(x))\n",
    "####################'''ASHIS MISHRA'''################\n",
    "\n",
    "\n",
    "def solve():\n",
    "    n=input1()\n",
    "    a=input4()\n",
    "    for i in a:\n",
    "        if i<0:\n",
    "            print(i)\n",
    "            return\n",
    "    print(max(a))\n",
    "t = int(input())\n",
    "for i in range(t):\n",
    "    solve()\n"
   ]
  },
  {
   "cell_type": "code",
   "execution_count": 5,
   "id": "8d080cb6",
   "metadata": {},
   "outputs": [],
   "source": [
    "import math\n",
    "def solve():\n",
    "    n,k=map(int,input().strip().split())\n",
    "    a=list(map(int,input().strip().split()))\n",
    "    b=list(map(int,input().strip().split()))\n",
    "#     c=[]\n",
    "    \n",
    "    while not(sum(a)>=sum(b)) and k>0:\n",
    "        mini=-math.inf\n",
    "        for i in range(n):\n",
    "            if (b[i]-a[i])>mini:\n",
    "                mini=b[i]-a[i]\n",
    "        for i in range(n):\n",
    "            if b[i]-a[i] == mini:\n",
    "                a[i] = b[i]\n",
    "        k-=1\n",
    "    \n",
    "    print(sum(a))"
   ]
  },
  {
   "cell_type": "code",
   "execution_count": 4,
   "id": "aaa89af8",
   "metadata": {},
   "outputs": [],
   "source": [
    "#base inputs\n",
    "\n",
    "#n=int(input())\n",
    "#s=str(input())\n",
    "#a,b=map(int,input().strip().split())\n",
    "#a=list(map(int,input().strip().split()))\n",
    "#for i in range(n):"
   ]
  },
  {
   "cell_type": "code",
   "execution_count": 12,
   "id": "6dd39287",
   "metadata": {},
   "outputs": [],
   "source": [
    "'''AUTHOR - ASHIS MISHRA'''\n",
    "\n",
    "import sys\n",
    "import copy\n",
    "import math\n",
    "import heapq\n",
    "import bisect \n",
    "import statistics\n",
    "from sys import stdin,stdout\n",
    "from math import inf,gcd,log,log2,floor,ceil,sqrt\n",
    "from collections import defaultdict as dd \n",
    "from heapq import heapify , heappush , heappop\n",
    "from itertools import permutations,combinations,accumulate,groupby\n",
    "from collections import Counter, OrderedDict , deque \n",
    "from bisect import bisect_left as bl,bisect_right as br , insort \n",
    "from functools import lru_cache , reduce \n",
    "\n",
    "sys.setrecursionlimit(100000000)\n",
    "\n",
    "inp    =lambda: int(input())\n",
    "strr  =lambda: input().strip()\n",
    "jl     =lambda x,l: x.join(map(str,l))\n",
    "strl   =lambda: list(input().strip())\n",
    "muli    =lambda: map(int,input().strip().split())\n",
    "mulf   =lambda: map(float,input().strip().split())\n",
    "lstx    =lambda: list(map(int,input().strip().split()))\n",
    "\n",
    "ceil   =lambda x: int(x) if(x==int(x)) else int(x)+1\n",
    "ceildiv=lambda x,d: x//d if(x%d==0) else x//d+1\n",
    "\n",
    "flush  =lambda: stdout.flush()\n",
    "stdstr =lambda: stdin.readline()\n",
    "stdint =lambda: int(stdin.readline())\n",
    "stdpr  =lambda x: stdout.write(str(x))\n",
    "####################'''ASHIS MISHRA'''################"
   ]
  },
  {
   "cell_type": "code",
   "execution_count": 50,
   "id": "6f5c77ed",
   "metadata": {},
   "outputs": [],
   "source": [
    "def longest_common_suffix(s1, s2):\n",
    "    i = len(s1) - 1\n",
    "    j = len(s2) - 1\n",
    "    lcs = \"\"\n",
    "    while i >= 0 and j >= 0 and s1[i] == s2[j]:\n",
    "        lcs = s1[i] + lcs\n",
    "        i -= 1\n",
    "        j -= 1\n",
    "    return lcs\n"
   ]
  },
  {
   "cell_type": "code",
   "execution_count": null,
   "id": "2c63540c",
   "metadata": {},
   "outputs": [],
   "source": [
    "import sys\n",
    "input = sys.stdin.readline\n",
    "def solve():\n",
    "    n=int(input())\n",
    "    #s=str(input())\n",
    "    #n,x=map(int,input().strip().split())\n",
    "    a=list(map(int,input().strip().split()))\n",
    "    mini = a[0]|a[1]\n",
    "    for i in range(n):\n",
    "        for j in range(i,n):\n",
    "            if i!=j:\n",
    "                res=a[i]|a[j]\n",
    "                if a[i]|res = res and a[j]|res = res:\n",
    "                    if res<mini:\n",
    "                        mini=res\n",
    "    print(mini)\n",
    "            \n",
    "    \n",
    "    \n",
    "    \n",
    "    \n",
    "t=int(input())\n",
    "for _ in range(t):\n",
    "    solve()"
   ]
  },
  {
   "cell_type": "code",
   "execution_count": null,
   "id": "936ec6c5",
   "metadata": {},
   "outputs": [],
   "source": [
    "[2,3,4,5]->(2,4),(3,5)\n",
    "[2,3,5]\n",
    "max_length=20\n",
    "[2,4,6] -> (2,4),(4,6)"
   ]
  },
  {
   "cell_type": "code",
   "execution_count": null,
   "id": "7c36a67a",
   "metadata": {},
   "outputs": [],
   "source": [
    "#sub-arrays of an array\n",
    "# Python program to print all\n",
    "# sublist from a given list\n",
    "\n",
    "# function to generate all the sub lists\n",
    "def sub_lists (l):\n",
    "    lists = [[]]\n",
    "    for i in range(len(l) + 1):\n",
    "        for j in range(i):\n",
    "            lists.append(l[j: i])\n",
    "    return lists\n",
    "def solve(nums,k):\n",
    "    n=len(nums)\n",
    "    for i in range(n):\n",
    "        m=len(nums[i])\n",
    "        if nums[i]!=[]:\n",
    "            \n",
    "                    \n",
    "    \n"
   ]
  },
  {
   "cell_type": "code",
   "execution_count": 23,
   "id": "57cd138a",
   "metadata": {},
   "outputs": [
    {
     "data": {
      "text/plain": [
       "4"
      ]
     },
     "execution_count": 23,
     "metadata": {},
     "output_type": "execute_result"
    }
   ],
   "source": [
    "len(set([1,3,5,2,1,3,1]))"
   ]
  },
  {
   "cell_type": "code",
   "execution_count": 24,
   "id": "f6180e35",
   "metadata": {},
   "outputs": [
    {
     "data": {
      "text/plain": [
       "5"
      ]
     },
     "execution_count": 24,
     "metadata": {},
     "output_type": "execute_result"
    }
   ],
   "source": [
    "len(set([3,4,5,6,2,5,6,3,2,3,6,2,6,4]))"
   ]
  },
  {
   "cell_type": "code",
   "execution_count": 28,
   "id": "04b5df88",
   "metadata": {},
   "outputs": [
    {
     "name": "stdout",
     "output_type": "stream",
     "text": [
      "[2, 3, 4]\n"
     ]
    }
   ],
   "source": [
    "a=[2,4,3]\n",
    "b=a\n",
    "\n",
    "b.sort()\n",
    "print(a)"
   ]
  },
  {
   "cell_type": "code",
   "execution_count": 19,
   "id": "8f09773a",
   "metadata": {},
   "outputs": [
    {
     "name": "stdout",
     "output_type": "stream",
     "text": [
      "6.932709381099979667518601518419576371325268475083438990273304010654964028077242749414992845935561147\n"
     ]
    }
   ],
   "source": [
    "from decimal import Decimal, getcontext\n",
    "\n",
    "def multiply_and_sqrt(arr):\n",
    "    getcontext().prec = 100  # set precision to 100 decimal places\n",
    "    product = Decimal(1)\n",
    "    for num in arr:\n",
    "        product *= Decimal(num).sqrt()\n",
    "    return product.sqrt()\n",
    "\n",
    "# Example usage:\n",
    "arr = [2, 3, 5, 7, 11]\n",
    "result = multiply_and_sqrt(arr)\n",
    "print(result)\n"
   ]
  },
  {
   "cell_type": "code",
   "execution_count": 25,
   "id": "620cec3b",
   "metadata": {},
   "outputs": [
    {
     "name": "stdout",
     "output_type": "stream",
     "text": [
      "3\n",
      "3 3 1\n",
      "3\n"
     ]
    }
   ],
   "source": [
    "from decimal import Decimal, getcontext\n",
    "\n",
    "n=int(input())\n",
    "arr=list(map(int,input().strip().split()))    \n",
    "getcontext().prec = 100  # set precision to 100 decimal places\n",
    "product = Decimal(1)\n",
    "for num in arr:\n",
    "    product *= Decimal(num).sqrt()\n",
    "print(int(product))\n",
    "\n",
    "\n"
   ]
  },
  {
   "cell_type": "code",
   "execution_count": null,
   "id": "85bff3ba",
   "metadata": {},
   "outputs": [],
   "source": []
  }
 ],
 "metadata": {
  "kernelspec": {
   "display_name": "Python 3 (ipykernel)",
   "language": "python",
   "name": "python3"
  },
  "language_info": {
   "codemirror_mode": {
    "name": "ipython",
    "version": 3
   },
   "file_extension": ".py",
   "mimetype": "text/x-python",
   "name": "python",
   "nbconvert_exporter": "python",
   "pygments_lexer": "ipython3",
   "version": "3.9.13"
  }
 },
 "nbformat": 4,
 "nbformat_minor": 5
}
